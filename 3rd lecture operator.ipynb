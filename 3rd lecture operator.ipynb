{
 "cells": [
  {
   "cell_type": "code",
   "execution_count": 1,
   "id": "7fe3d354-9f8e-4be5-8238-1f70f6044a07",
   "metadata": {},
   "outputs": [],
   "source": [
    "#what is operators>>> special keywards to performs operations\n",
    "#why? To manupulte data"
   ]
  },
  {
   "cell_type": "code",
   "execution_count": 2,
   "id": "6342eef9-9f9b-46e9-96c3-b7df97db5401",
   "metadata": {},
   "outputs": [
    {
     "data": {
      "text/plain": [
       "9"
      ]
     },
     "execution_count": 2,
     "metadata": {},
     "output_type": "execute_result"
    }
   ],
   "source": [
    "#1]arithmatics operators\n",
    "a = 7\n",
    "b = 2\n",
    "a+b"
   ]
  },
  {
   "cell_type": "code",
   "execution_count": 6,
   "id": "cf2d529e-0063-4cbb-8b4d-4c30f47eb1b4",
   "metadata": {},
   "outputs": [
    {
     "name": "stdout",
     "output_type": "stream",
     "text": [
      "13\n"
     ]
    }
   ],
   "source": [
    "add= 4+9\n",
    "print(add)"
   ]
  },
  {
   "cell_type": "code",
   "execution_count": 4,
   "id": "04a85162-1f92-45b2-b89a-1e96ac8e24d0",
   "metadata": {},
   "outputs": [
    {
     "data": {
      "text/plain": [
       "13"
      ]
     },
     "execution_count": 4,
     "metadata": {},
     "output_type": "execute_result"
    }
   ],
   "source": [
    "add"
   ]
  },
  {
   "cell_type": "code",
   "execution_count": 5,
   "id": "b7b3e822-0369-4dae-b8b8-c8b31112292f",
   "metadata": {},
   "outputs": [
    {
     "data": {
      "text/plain": [
       "100"
      ]
     },
     "execution_count": 5,
     "metadata": {},
     "output_type": "execute_result"
    }
   ],
   "source": [
    "16+84"
   ]
  },
  {
   "cell_type": "code",
   "execution_count": 7,
   "id": "7b33107a-6391-4748-83d2-317ef76ffab4",
   "metadata": {},
   "outputs": [
    {
     "data": {
      "text/plain": [
       "5"
      ]
     },
     "execution_count": 7,
     "metadata": {},
     "output_type": "execute_result"
    }
   ],
   "source": [
    "20-15"
   ]
  },
  {
   "cell_type": "code",
   "execution_count": 8,
   "id": "219abf89-566e-474a-83d9-50512cabdb4b",
   "metadata": {},
   "outputs": [
    {
     "data": {
      "text/plain": [
       "1925"
      ]
     },
     "execution_count": 8,
     "metadata": {},
     "output_type": "execute_result"
    }
   ],
   "source": [
    "55*35"
   ]
  },
  {
   "cell_type": "code",
   "execution_count": 9,
   "id": "dac56b7b-ce95-4130-a3a3-ff343034c43a",
   "metadata": {},
   "outputs": [
    {
     "data": {
      "text/plain": [
       "14.0"
      ]
     },
     "execution_count": 9,
     "metadata": {},
     "output_type": "execute_result"
    }
   ],
   "source": [
    "70/5"
   ]
  },
  {
   "cell_type": "code",
   "execution_count": 10,
   "id": "5dfc473c-aebf-4ebf-aec5-f70c15b982e1",
   "metadata": {},
   "outputs": [],
   "source": [
    "#modulus Operatot"
   ]
  },
  {
   "cell_type": "code",
   "execution_count": 11,
   "id": "d71882dd-1215-43be-8c43-d5674792105c",
   "metadata": {},
   "outputs": [
    {
     "data": {
      "text/plain": [
       "1"
      ]
     },
     "execution_count": 11,
     "metadata": {},
     "output_type": "execute_result"
    }
   ],
   "source": [
    "43%2"
   ]
  },
  {
   "cell_type": "code",
   "execution_count": 12,
   "id": "61523524-ffdf-4202-8ac1-a58845774d56",
   "metadata": {},
   "outputs": [],
   "source": [
    "#Power Operator/ Exponentiatioan operator"
   ]
  },
  {
   "cell_type": "code",
   "execution_count": 13,
   "id": "164526f5-d784-487a-8f6b-ad2fb21e2cb9",
   "metadata": {},
   "outputs": [
    {
     "data": {
      "text/plain": [
       "27"
      ]
     },
     "execution_count": 13,
     "metadata": {},
     "output_type": "execute_result"
    }
   ],
   "source": [
    "3**3 #3*3*3"
   ]
  },
  {
   "cell_type": "code",
   "execution_count": 14,
   "id": "e420c262-0080-4106-a5b7-0a75b9964028",
   "metadata": {},
   "outputs": [
    {
     "data": {
      "text/plain": [
       "19683"
      ]
     },
     "execution_count": 14,
     "metadata": {},
     "output_type": "execute_result"
    }
   ],
   "source": [
    "3**9"
   ]
  },
  {
   "cell_type": "code",
   "execution_count": 15,
   "id": "3e01bd5c-af47-443f-a909-68c88d9ccc95",
   "metadata": {},
   "outputs": [
    {
     "data": {
      "text/plain": [
       "9"
      ]
     },
     "execution_count": 15,
     "metadata": {},
     "output_type": "execute_result"
    }
   ],
   "source": [
    "3**2"
   ]
  },
  {
   "cell_type": "code",
   "execution_count": 18,
   "id": "a249dcbe-0227-43ea-846f-a2357d6dd2a7",
   "metadata": {},
   "outputs": [],
   "source": [
    "#floor Operator"
   ]
  },
  {
   "cell_type": "code",
   "execution_count": 19,
   "id": "c95f90cc-8306-46d5-875b-75729923d2ee",
   "metadata": {},
   "outputs": [
    {
     "data": {
      "text/plain": [
       "1"
      ]
     },
     "execution_count": 19,
     "metadata": {},
     "output_type": "execute_result"
    }
   ],
   "source": [
    "8//6"
   ]
  },
  {
   "cell_type": "code",
   "execution_count": 20,
   "id": "6de3b126-9d8d-454e-8296-6296f8f71ab8",
   "metadata": {},
   "outputs": [
    {
     "data": {
      "text/plain": [
       "44"
      ]
     },
     "execution_count": 20,
     "metadata": {},
     "output_type": "execute_result"
    }
   ],
   "source": [
    "88//2"
   ]
  },
  {
   "cell_type": "code",
   "execution_count": 21,
   "id": "889da4c6-e775-42d7-9306-f42055ccfe55",
   "metadata": {},
   "outputs": [
    {
     "data": {
      "text/plain": [
       "14.0"
      ]
     },
     "execution_count": 21,
     "metadata": {},
     "output_type": "execute_result"
    }
   ],
   "source": [
    "33//2.2"
   ]
  },
  {
   "cell_type": "code",
   "execution_count": 16,
   "id": "e53bf8ae-82c9-4f28-8508-6401a61b13b5",
   "metadata": {},
   "outputs": [],
   "source": [
    "#2]Comparison Operator>> Compair Two Values>> return a boolean Value "
   ]
  },
  {
   "cell_type": "code",
   "execution_count": 17,
   "id": "76fb8ac5-c8c5-4886-b7cb-076488cae306",
   "metadata": {},
   "outputs": [
    {
     "data": {
      "text/plain": [
       "True"
      ]
     },
     "execution_count": 17,
     "metadata": {},
     "output_type": "execute_result"
    }
   ],
   "source": [
    "8==8"
   ]
  },
  {
   "cell_type": "code",
   "execution_count": 22,
   "id": "289083df-548d-4b18-a3e7-4654c151a3cb",
   "metadata": {},
   "outputs": [
    {
     "data": {
      "text/plain": [
       "True"
      ]
     },
     "execution_count": 22,
     "metadata": {},
     "output_type": "execute_result"
    }
   ],
   "source": [
    "8 != 9"
   ]
  },
  {
   "cell_type": "code",
   "execution_count": 23,
   "id": "c77e469f-98ba-4dcc-b299-c90c296dbe82",
   "metadata": {},
   "outputs": [
    {
     "data": {
      "text/plain": [
       "False"
      ]
     },
     "execution_count": 23,
     "metadata": {},
     "output_type": "execute_result"
    }
   ],
   "source": [
    "5 != 5"
   ]
  },
  {
   "cell_type": "code",
   "execution_count": 25,
   "id": "9bb6b87a-1c75-44ed-98e2-87b485766fe4",
   "metadata": {},
   "outputs": [
    {
     "data": {
      "text/plain": [
       "True"
      ]
     },
     "execution_count": 25,
     "metadata": {},
     "output_type": "execute_result"
    }
   ],
   "source": [
    "5 >= 5"
   ]
  },
  {
   "cell_type": "code",
   "execution_count": 26,
   "id": "f371dc9a-09ed-4066-890e-739963d11404",
   "metadata": {},
   "outputs": [
    {
     "data": {
      "text/plain": [
       "True"
      ]
     },
     "execution_count": 26,
     "metadata": {},
     "output_type": "execute_result"
    }
   ],
   "source": [
    "9 <= 9"
   ]
  },
  {
   "cell_type": "code",
   "execution_count": 27,
   "id": "9ee7b399-bf7f-4d7e-b19d-13899c8053c1",
   "metadata": {},
   "outputs": [
    {
     "data": {
      "text/plain": [
       "False"
      ]
     },
     "execution_count": 27,
     "metadata": {},
     "output_type": "execute_result"
    }
   ],
   "source": [
    "10>=12"
   ]
  },
  {
   "cell_type": "code",
   "execution_count": 28,
   "id": "93f82a21-d7e9-4ea3-9ef4-564ded41aed7",
   "metadata": {},
   "outputs": [
    {
     "data": {
      "text/plain": [
       "True"
      ]
     },
     "execution_count": 28,
     "metadata": {},
     "output_type": "execute_result"
    }
   ],
   "source": [
    "4>=3"
   ]
  },
  {
   "cell_type": "code",
   "execution_count": 30,
   "id": "2bf9c0ff-e339-475d-80d9-a1e51659408c",
   "metadata": {},
   "outputs": [
    {
     "data": {
      "text/plain": [
       "True"
      ]
     },
     "execution_count": 30,
     "metadata": {},
     "output_type": "execute_result"
    }
   ],
   "source": [
    "6<=9"
   ]
  },
  {
   "cell_type": "code",
   "execution_count": 29,
   "id": "41557e15-781f-4469-9de4-c57dfd8fc5ed",
   "metadata": {},
   "outputs": [
    {
     "data": {
      "text/plain": [
       "False"
      ]
     },
     "execution_count": 29,
     "metadata": {},
     "output_type": "execute_result"
    }
   ],
   "source": [
    "5<=3"
   ]
  },
  {
   "cell_type": "code",
   "execution_count": 31,
   "id": "b34da0ab-09ed-4449-b22b-f36e8444eaca",
   "metadata": {},
   "outputs": [],
   "source": [
    "#3]Logical Operator"
   ]
  },
  {
   "cell_type": "code",
   "execution_count": null,
   "id": "96ab69be-8ac7-491b-8037-9cf97d47ee78",
   "metadata": {},
   "outputs": [],
   "source": [
    "#and operator"
   ]
  },
  {
   "cell_type": "code",
   "execution_count": 32,
   "id": "b993f38c-7da9-404b-81d6-35c860f0b17e",
   "metadata": {},
   "outputs": [
    {
     "data": {
      "text/plain": [
       "True"
      ]
     },
     "execution_count": 32,
     "metadata": {},
     "output_type": "execute_result"
    }
   ],
   "source": [
    "True and True "
   ]
  },
  {
   "cell_type": "code",
   "execution_count": 33,
   "id": "1b9f03e5-46c1-41be-8ef7-8cdd6ca5864f",
   "metadata": {},
   "outputs": [
    {
     "data": {
      "text/plain": [
       "False"
      ]
     },
     "execution_count": 33,
     "metadata": {},
     "output_type": "execute_result"
    }
   ],
   "source": [
    "True and False"
   ]
  },
  {
   "cell_type": "code",
   "execution_count": 35,
   "id": "d0e84818-c1e4-472a-87cf-fea9f2dfe5c6",
   "metadata": {},
   "outputs": [
    {
     "data": {
      "text/plain": [
       "False"
      ]
     },
     "execution_count": 35,
     "metadata": {},
     "output_type": "execute_result"
    }
   ],
   "source": [
    "False and False"
   ]
  },
  {
   "cell_type": "code",
   "execution_count": 36,
   "id": "c923e670-16b2-4040-8613-735c94de5bf1",
   "metadata": {},
   "outputs": [],
   "source": [
    "#not Operator"
   ]
  },
  {
   "cell_type": "code",
   "execution_count": 38,
   "id": "90d2bfe0-6a00-4bb2-b6a0-09cc1d12dd6a",
   "metadata": {},
   "outputs": [
    {
     "data": {
      "text/plain": [
       "False"
      ]
     },
     "execution_count": 38,
     "metadata": {},
     "output_type": "execute_result"
    }
   ],
   "source": [
    "not True"
   ]
  },
  {
   "cell_type": "code",
   "execution_count": 39,
   "id": "f57015a3-fe3c-4a90-8064-812709e30a18",
   "metadata": {},
   "outputs": [
    {
     "data": {
      "text/plain": [
       "True"
      ]
     },
     "execution_count": 39,
     "metadata": {},
     "output_type": "execute_result"
    }
   ],
   "source": [
    "not False"
   ]
  },
  {
   "cell_type": "code",
   "execution_count": 40,
   "id": "57ba23ab-66ce-44f1-8f4c-22e9904c191e",
   "metadata": {},
   "outputs": [],
   "source": [
    "#4]Assignment Operator"
   ]
  },
  {
   "cell_type": "code",
   "execution_count": 2,
   "id": "3f22be3f-a86b-4a5d-87a0-4c2414e02023",
   "metadata": {},
   "outputs": [],
   "source": [
    "k=6"
   ]
  },
  {
   "cell_type": "code",
   "execution_count": 42,
   "id": "5b081d6c-4d46-49c3-8053-7a73751eb02d",
   "metadata": {},
   "outputs": [
    {
     "data": {
      "text/plain": [
       "6"
      ]
     },
     "execution_count": 42,
     "metadata": {},
     "output_type": "execute_result"
    }
   ],
   "source": [
    "k"
   ]
  },
  {
   "cell_type": "code",
   "execution_count": 3,
   "id": "3534944f-bbb9-42a9-ba3c-651733161471",
   "metadata": {},
   "outputs": [
    {
     "data": {
      "text/plain": [
       "15"
      ]
     },
     "execution_count": 3,
     "metadata": {},
     "output_type": "execute_result"
    }
   ],
   "source": [
    "k + 9"
   ]
  },
  {
   "cell_type": "code",
   "execution_count": 4,
   "id": "89c9e454-77d4-4332-a809-697f9ad135a6",
   "metadata": {},
   "outputs": [
    {
     "data": {
      "text/plain": [
       "6"
      ]
     },
     "execution_count": 4,
     "metadata": {},
     "output_type": "execute_result"
    }
   ],
   "source": [
    "k"
   ]
  },
  {
   "cell_type": "code",
   "execution_count": 5,
   "id": "6fb6e176-6198-412d-a262-4aac1a1fd9f1",
   "metadata": {},
   "outputs": [],
   "source": [
    "k= k + 9"
   ]
  },
  {
   "cell_type": "code",
   "execution_count": 6,
   "id": "1584a5ce-8523-428d-b0ab-10cb46293724",
   "metadata": {},
   "outputs": [
    {
     "data": {
      "text/plain": [
       "15"
      ]
     },
     "execution_count": 6,
     "metadata": {},
     "output_type": "execute_result"
    }
   ],
   "source": [
    "k"
   ]
  },
  {
   "cell_type": "code",
   "execution_count": 7,
   "id": "70ff0e67-8d86-4997-afb0-30a7f75f6f03",
   "metadata": {},
   "outputs": [],
   "source": [
    "k += 7"
   ]
  },
  {
   "cell_type": "code",
   "execution_count": 8,
   "id": "f6bb29f5-2f8d-472c-8c40-f3a68ae89267",
   "metadata": {},
   "outputs": [
    {
     "data": {
      "text/plain": [
       "22"
      ]
     },
     "execution_count": 8,
     "metadata": {},
     "output_type": "execute_result"
    }
   ],
   "source": [
    "k"
   ]
  },
  {
   "cell_type": "code",
   "execution_count": 9,
   "id": "31e42b4c-88ef-4d8f-a83d-1addcf541960",
   "metadata": {},
   "outputs": [],
   "source": [
    "k *= 3"
   ]
  },
  {
   "cell_type": "code",
   "execution_count": 10,
   "id": "7dc9ef75-0f0a-45a3-a6c6-b72f00c5846c",
   "metadata": {},
   "outputs": [
    {
     "data": {
      "text/plain": [
       "66"
      ]
     },
     "execution_count": 10,
     "metadata": {},
     "output_type": "execute_result"
    }
   ],
   "source": [
    "k"
   ]
  },
  {
   "cell_type": "code",
   "execution_count": 11,
   "id": "12e43ff8-7c61-4356-aec0-9486e554fa15",
   "metadata": {},
   "outputs": [],
   "source": [
    "k /= 4"
   ]
  },
  {
   "cell_type": "code",
   "execution_count": 12,
   "id": "9fd08f61-8a4f-4275-942c-641c6f679adc",
   "metadata": {},
   "outputs": [
    {
     "data": {
      "text/plain": [
       "16.5"
      ]
     },
     "execution_count": 12,
     "metadata": {},
     "output_type": "execute_result"
    }
   ],
   "source": [
    "k"
   ]
  },
  {
   "cell_type": "code",
   "execution_count": 1,
   "id": "797d4281-1faa-45d1-8cf2-587197d656ef",
   "metadata": {},
   "outputs": [],
   "source": [
    "# 4]membership operator"
   ]
  },
  {
   "cell_type": "code",
   "execution_count": 2,
   "id": "d5baeda4-76b1-4a8b-a438-c98d2b224da8",
   "metadata": {},
   "outputs": [],
   "source": [
    "d = 'school girls'"
   ]
  },
  {
   "cell_type": "code",
   "execution_count": 3,
   "id": "8985558b-bda4-40e0-8838-62af1a2d80e1",
   "metadata": {},
   "outputs": [
    {
     "data": {
      "text/plain": [
       "True"
      ]
     },
     "execution_count": 3,
     "metadata": {},
     "output_type": "execute_result"
    }
   ],
   "source": [
    "'o' in d"
   ]
  },
  {
   "cell_type": "code",
   "execution_count": 4,
   "id": "9fa33fb8-83e5-442f-bde8-74a54b37dc24",
   "metadata": {},
   "outputs": [
    {
     "data": {
      "text/plain": [
       "True"
      ]
     },
     "execution_count": 4,
     "metadata": {},
     "output_type": "execute_result"
    }
   ],
   "source": [
    "'have' in 'I have laptoap'"
   ]
  },
  {
   "cell_type": "code",
   "execution_count": 5,
   "id": "325256de-af8e-4e72-aae8-16bd61d9ef92",
   "metadata": {},
   "outputs": [
    {
     "data": {
      "text/plain": [
       "False"
      ]
     },
     "execution_count": 5,
     "metadata": {},
     "output_type": "execute_result"
    }
   ],
   "source": [
    "'soni' in 'I am sonali'"
   ]
  },
  {
   "cell_type": "code",
   "execution_count": 6,
   "id": "e118b343-c152-49ec-a1f5-8097356d027f",
   "metadata": {},
   "outputs": [
    {
     "data": {
      "text/plain": [
       "True"
      ]
     },
     "execution_count": 6,
     "metadata": {},
     "output_type": "execute_result"
    }
   ],
   "source": [
    "'soni' not in 'I am sonali'"
   ]
  },
  {
   "cell_type": "code",
   "execution_count": 7,
   "id": "f825c4ca-0022-474e-9217-008e9a7ffd5b",
   "metadata": {},
   "outputs": [],
   "source": [
    "B = [\"loni\", \"moni\", \"toni\", \"goni\"]"
   ]
  },
  {
   "cell_type": "code",
   "execution_count": 8,
   "id": "af26dd64-b8b8-4927-92de-4e01536c5267",
   "metadata": {},
   "outputs": [
    {
     "data": {
      "text/plain": [
       "True"
      ]
     },
     "execution_count": 8,
     "metadata": {},
     "output_type": "execute_result"
    }
   ],
   "source": [
    "\"toni\" in B"
   ]
  },
  {
   "cell_type": "code",
   "execution_count": 9,
   "id": "580fb6e3-cb5e-42d1-be2c-df9cc8181c19",
   "metadata": {},
   "outputs": [
    {
     "data": {
      "text/plain": [
       "False"
      ]
     },
     "execution_count": 9,
     "metadata": {},
     "output_type": "execute_result"
    }
   ],
   "source": [
    "\"soni\" in B"
   ]
  },
  {
   "cell_type": "code",
   "execution_count": 10,
   "id": "57fbdf60-9cbf-4453-b54a-863d93c4d1dc",
   "metadata": {},
   "outputs": [],
   "source": [
    "#5]identity Operator >>Compair the memory location of two object"
   ]
  },
  {
   "cell_type": "code",
   "execution_count": 11,
   "id": "ab0fc583-20de-46da-a2a6-bf69132da3f6",
   "metadata": {},
   "outputs": [],
   "source": [
    "a=33"
   ]
  },
  {
   "cell_type": "code",
   "execution_count": 12,
   "id": "c688f353-8e8b-4b02-af1f-c202d5ba338b",
   "metadata": {},
   "outputs": [],
   "source": [
    "b=22"
   ]
  },
  {
   "cell_type": "code",
   "execution_count": 13,
   "id": "5533b28b-5f18-41ee-bac3-1cd2309580f0",
   "metadata": {},
   "outputs": [
    {
     "data": {
      "text/plain": [
       "False"
      ]
     },
     "execution_count": 13,
     "metadata": {},
     "output_type": "execute_result"
    }
   ],
   "source": [
    "a is b"
   ]
  },
  {
   "cell_type": "code",
   "execution_count": 16,
   "id": "917cc4f0-4065-42e6-9e44-136a89211e44",
   "metadata": {},
   "outputs": [],
   "source": [
    "A= 'Sonakshu'"
   ]
  },
  {
   "cell_type": "code",
   "execution_count": 18,
   "id": "2ce8832c-52a1-4161-aa78-24f096ed2c44",
   "metadata": {},
   "outputs": [],
   "source": [
    "A = S"
   ]
  },
  {
   "cell_type": "code",
   "execution_count": 19,
   "id": "4479cb3a-2f4e-41ff-a04e-8a7c97e9d7e7",
   "metadata": {},
   "outputs": [
    {
     "data": {
      "text/plain": [
       "True"
      ]
     },
     "execution_count": 19,
     "metadata": {},
     "output_type": "execute_result"
    }
   ],
   "source": [
    "A is S"
   ]
  },
  {
   "cell_type": "code",
   "execution_count": 22,
   "id": "2f89491b-7d13-41f3-9e05-5ff2b978fe84",
   "metadata": {},
   "outputs": [
    {
     "data": {
      "text/plain": [
       "False"
      ]
     },
     "execution_count": 22,
     "metadata": {},
     "output_type": "execute_result"
    }
   ],
   "source": [
    "Z = 'ggg'\n",
    "Y = 'kkk'\n",
    "Z is Y"
   ]
  },
  {
   "cell_type": "code",
   "execution_count": 23,
   "id": "1f1df9ab-dcb0-4e35-a1b3-64004e3e01a4",
   "metadata": {},
   "outputs": [
    {
     "data": {
      "text/plain": [
       "True"
      ]
     },
     "execution_count": 23,
     "metadata": {},
     "output_type": "execute_result"
    }
   ],
   "source": [
    "Y is not Z"
   ]
  },
  {
   "cell_type": "code",
   "execution_count": 25,
   "id": "53908182-840d-4763-915b-4a1e4c014edb",
   "metadata": {},
   "outputs": [],
   "source": [
    "#6] bitwise operator >> operations at bit level"
   ]
  },
  {
   "cell_type": "code",
   "execution_count": 1,
   "id": "ce89e376-7755-4803-98a7-27624251ab11",
   "metadata": {},
   "outputs": [
    {
     "data": {
      "text/plain": [
       "10"
      ]
     },
     "execution_count": 1,
     "metadata": {},
     "output_type": "execute_result"
    }
   ],
   "source": [
    "10 & 10"
   ]
  },
  {
   "cell_type": "code",
   "execution_count": 2,
   "id": "7b556c28-858f-4708-bc35-a5f4a4df0705",
   "metadata": {},
   "outputs": [
    {
     "data": {
      "text/plain": [
       "4"
      ]
     },
     "execution_count": 2,
     "metadata": {},
     "output_type": "execute_result"
    }
   ],
   "source": [
    "20 & 6"
   ]
  },
  {
   "cell_type": "code",
   "execution_count": 3,
   "id": "9c9bfef5-d9ae-4046-b820-487ec92b40aa",
   "metadata": {},
   "outputs": [
    {
     "data": {
      "text/plain": [
       "'0b10100'"
      ]
     },
     "execution_count": 3,
     "metadata": {},
     "output_type": "execute_result"
    }
   ],
   "source": [
    "bin(20)"
   ]
  },
  {
   "cell_type": "code",
   "execution_count": 4,
   "id": "6a1f907c-e2b4-441e-af93-1e66be618603",
   "metadata": {},
   "outputs": [
    {
     "data": {
      "text/plain": [
       "'0b1010'"
      ]
     },
     "execution_count": 4,
     "metadata": {},
     "output_type": "execute_result"
    }
   ],
   "source": [
    "bin(10)"
   ]
  },
  {
   "cell_type": "code",
   "execution_count": 5,
   "id": "e1e8750f-268f-417f-b238-753c124b3803",
   "metadata": {},
   "outputs": [
    {
     "data": {
      "text/plain": [
       "0"
      ]
     },
     "execution_count": 5,
     "metadata": {},
     "output_type": "execute_result"
    }
   ],
   "source": [
    "20 & 10"
   ]
  },
  {
   "cell_type": "code",
   "execution_count": 6,
   "id": "ffaaa6fc-cd39-4a3e-8be0-6c5ead0bee29",
   "metadata": {},
   "outputs": [
    {
     "data": {
      "text/plain": [
       "'0b10010'"
      ]
     },
     "execution_count": 6,
     "metadata": {},
     "output_type": "execute_result"
    }
   ],
   "source": [
    "bin(18)"
   ]
  },
  {
   "cell_type": "code",
   "execution_count": 7,
   "id": "d933a4f5-cbbb-44ab-b533-f470d0d7b5a8",
   "metadata": {},
   "outputs": [
    {
     "data": {
      "text/plain": [
       "'0b10111'"
      ]
     },
     "execution_count": 7,
     "metadata": {},
     "output_type": "execute_result"
    }
   ],
   "source": [
    "bin(23)"
   ]
  },
  {
   "cell_type": "code",
   "execution_count": 8,
   "id": "136f1b00-df59-4bc9-ae83-8f517784148f",
   "metadata": {},
   "outputs": [
    {
     "data": {
      "text/plain": [
       "18"
      ]
     },
     "execution_count": 8,
     "metadata": {},
     "output_type": "execute_result"
    }
   ],
   "source": [
    "18 & 23"
   ]
  },
  {
   "cell_type": "code",
   "execution_count": 9,
   "id": "be4668e6-0113-404a-ae89-c8724b4fa258",
   "metadata": {},
   "outputs": [
    {
     "data": {
      "text/plain": [
       "15"
      ]
     },
     "execution_count": 9,
     "metadata": {},
     "output_type": "execute_result"
    }
   ],
   "source": [
    "15 or 13"
   ]
  },
  {
   "cell_type": "code",
   "execution_count": 10,
   "id": "0061bdca-bc83-46e4-b0c9-7af0c5e213c3",
   "metadata": {},
   "outputs": [
    {
     "data": {
      "text/plain": [
       "'0b11010'"
      ]
     },
     "execution_count": 10,
     "metadata": {},
     "output_type": "execute_result"
    }
   ],
   "source": [
    "bin(12)\n",
    "bin(26)"
   ]
  },
  {
   "cell_type": "code",
   "execution_count": 12,
   "id": "a062f67d-eef7-460a-a82b-2ae4c83440b2",
   "metadata": {},
   "outputs": [
    {
     "data": {
      "text/plain": [
       "18"
      ]
     },
     "execution_count": 12,
     "metadata": {},
     "output_type": "execute_result"
    }
   ],
   "source": [
    "18 & 26"
   ]
  },
  {
   "cell_type": "code",
   "execution_count": 18,
   "id": "3bffefb5-09fa-4e60-9619-2bce6b5c7cbc",
   "metadata": {},
   "outputs": [
    {
     "data": {
      "text/plain": [
       "0.6923076923076923"
      ]
     },
     "execution_count": 18,
     "metadata": {},
     "output_type": "execute_result"
    }
   ],
   "source": [
    "18  26"
   ]
  },
  {
   "cell_type": "code",
   "execution_count": 14,
   "id": "afbea253-86f9-4fd3-b2a8-fac0ba75bd08",
   "metadata": {},
   "outputs": [
    {
     "data": {
      "text/plain": [
       "'0b1100'"
      ]
     },
     "execution_count": 14,
     "metadata": {},
     "output_type": "execute_result"
    }
   ],
   "source": [
    "bin(12)"
   ]
  },
  {
   "cell_type": "code",
   "execution_count": 15,
   "id": "d8620b3b-1894-4ff1-a00e-4255696a243d",
   "metadata": {},
   "outputs": [
    {
     "data": {
      "text/plain": [
       "'0b11010'"
      ]
     },
     "execution_count": 15,
     "metadata": {},
     "output_type": "execute_result"
    }
   ],
   "source": [
    "bin(26)"
   ]
  },
  {
   "cell_type": "code",
   "execution_count": 17,
   "id": "b48040c1-49d2-4b71-9c8b-7ae204172cef",
   "metadata": {},
   "outputs": [
    {
     "data": {
      "text/plain": [
       "'0b10010'"
      ]
     },
     "execution_count": 17,
     "metadata": {},
     "output_type": "execute_result"
    }
   ],
   "source": [
    "bin(18)"
   ]
  },
  {
   "cell_type": "code",
   "execution_count": 19,
   "id": "6936ef2a-51fe-4623-bad7-86cad51b35f8",
   "metadata": {},
   "outputs": [
    {
     "data": {
      "text/plain": [
       "-6"
      ]
     },
     "execution_count": 19,
     "metadata": {},
     "output_type": "execute_result"
    }
   ],
   "source": [
    "~5"
   ]
  },
  {
   "cell_type": "code",
   "execution_count": 21,
   "id": "5dbdd1e3-8eba-42f0-be46-1e6eb6dc10fd",
   "metadata": {},
   "outputs": [
    {
     "data": {
      "text/plain": [
       "-101"
      ]
     },
     "execution_count": 21,
     "metadata": {},
     "output_type": "execute_result"
    }
   ],
   "source": [
    "~100"
   ]
  },
  {
   "cell_type": "code",
   "execution_count": 22,
   "id": "1ea899ac-501c-41f5-9b91-d6dac3cfe8b3",
   "metadata": {},
   "outputs": [],
   "source": [
    "# Xor = ^ 0 0=0, 1 0=1, 0 1=1, 1 1=0"
   ]
  },
  {
   "cell_type": "code",
   "execution_count": 16,
   "id": "b8f75bed-15a3-4abf-b525-13d5925650b6",
   "metadata": {},
   "outputs": [
    {
     "data": {
      "text/plain": [
       "22"
      ]
     },
     "execution_count": 16,
     "metadata": {},
     "output_type": "execute_result"
    }
   ],
   "source": [
    "12 ^ 26"
   ]
  },
  {
   "cell_type": "code",
   "execution_count": 23,
   "id": "a2167a46-bec8-47f4-81b4-7771306f1c1d",
   "metadata": {},
   "outputs": [
    {
     "data": {
      "text/plain": [
       "'0b101'"
      ]
     },
     "execution_count": 23,
     "metadata": {},
     "output_type": "execute_result"
    }
   ],
   "source": [
    "bin(5)"
   ]
  },
  {
   "cell_type": "code",
   "execution_count": 24,
   "id": "5f4516bf-4795-4a2d-8cdc-94e687f0bae0",
   "metadata": {},
   "outputs": [
    {
     "data": {
      "text/plain": [
       "'0b11'"
      ]
     },
     "execution_count": 24,
     "metadata": {},
     "output_type": "execute_result"
    }
   ],
   "source": [
    "bin(3)"
   ]
  },
  {
   "cell_type": "code",
   "execution_count": 25,
   "id": "711d2962-12e5-43d0-a9ca-9a4710d573b6",
   "metadata": {},
   "outputs": [
    {
     "data": {
      "text/plain": [
       "6"
      ]
     },
     "execution_count": 25,
     "metadata": {},
     "output_type": "execute_result"
    }
   ],
   "source": [
    "5 ^ 3"
   ]
  },
  {
   "cell_type": "code",
   "execution_count": 26,
   "id": "af996fb6-cf9d-469e-be81-92615246f78d",
   "metadata": {},
   "outputs": [
    {
     "data": {
      "text/plain": [
       "'0b110'"
      ]
     },
     "execution_count": 26,
     "metadata": {},
     "output_type": "execute_result"
    }
   ],
   "source": [
    "bin(6)"
   ]
  },
  {
   "cell_type": "code",
   "execution_count": 27,
   "id": "40df4f5b-e1f1-47a3-8815-0f1d6839f854",
   "metadata": {},
   "outputs": [],
   "source": [
    "# shift >><< Left shift and right shift "
   ]
  },
  {
   "cell_type": "code",
   "execution_count": 28,
   "id": "c49e8825-6d98-49c8-847d-69fda7bbc2da",
   "metadata": {},
   "outputs": [],
   "source": [
    "#Left shift operator << put no of zero right side"
   ]
  },
  {
   "cell_type": "code",
   "execution_count": 29,
   "id": "768734d9-c65e-4fdd-9724-ac9b95403665",
   "metadata": {},
   "outputs": [
    {
     "data": {
      "text/plain": [
       "3200"
      ]
     },
     "execution_count": 29,
     "metadata": {},
     "output_type": "execute_result"
    }
   ],
   "source": [
    "25 << 7"
   ]
  },
  {
   "cell_type": "code",
   "execution_count": 30,
   "id": "03b5146c-9106-4df9-873e-519e28147722",
   "metadata": {},
   "outputs": [
    {
     "data": {
      "text/plain": [
       "280"
      ]
     },
     "execution_count": 30,
     "metadata": {},
     "output_type": "execute_result"
    }
   ],
   "source": [
    "35 << 3"
   ]
  },
  {
   "cell_type": "code",
   "execution_count": 31,
   "id": "b5a372bc-9f82-4170-9c47-76b05cd5b5cd",
   "metadata": {},
   "outputs": [
    {
     "data": {
      "text/plain": [
       "'0b11001'"
      ]
     },
     "execution_count": 31,
     "metadata": {},
     "output_type": "execute_result"
    }
   ],
   "source": [
    "bin(25)"
   ]
  },
  {
   "cell_type": "code",
   "execution_count": 32,
   "id": "513b5a6c-bc69-4870-bddd-2468cd473067",
   "metadata": {},
   "outputs": [
    {
     "data": {
      "text/plain": [
       "'0b110010000000'"
      ]
     },
     "execution_count": 32,
     "metadata": {},
     "output_type": "execute_result"
    }
   ],
   "source": [
    "bin(3200)"
   ]
  },
  {
   "cell_type": "code",
   "execution_count": 33,
   "id": "650088a4-3916-472b-8eb1-fd37144b847a",
   "metadata": {},
   "outputs": [
    {
     "data": {
      "text/plain": [
       "8"
      ]
     },
     "execution_count": 33,
     "metadata": {},
     "output_type": "execute_result"
    }
   ],
   "source": [
    "4 << 1"
   ]
  },
  {
   "cell_type": "code",
   "execution_count": 34,
   "id": "d3ad8155-3dfd-4808-b5a9-2a24c2546190",
   "metadata": {},
   "outputs": [
    {
     "data": {
      "text/plain": [
       "'0b100'"
      ]
     },
     "execution_count": 34,
     "metadata": {},
     "output_type": "execute_result"
    }
   ],
   "source": [
    "bin(4)"
   ]
  },
  {
   "cell_type": "code",
   "execution_count": 36,
   "id": "f5d3d626-e94b-42ab-b1e9-dfefe8f8149f",
   "metadata": {},
   "outputs": [
    {
     "data": {
      "text/plain": [
       "'0b1000'"
      ]
     },
     "execution_count": 36,
     "metadata": {},
     "output_type": "execute_result"
    }
   ],
   "source": [
    "bin(8)"
   ]
  },
  {
   "cell_type": "code",
   "execution_count": 37,
   "id": "c4241d14-808c-425d-81b3-4740d5092d3e",
   "metadata": {},
   "outputs": [],
   "source": [
    "# Right shift operator >> remove the no of zero in binary"
   ]
  },
  {
   "cell_type": "code",
   "execution_count": 38,
   "id": "c40f7a47-41b5-45af-a816-3ff9f15ea8c4",
   "metadata": {},
   "outputs": [
    {
     "data": {
      "text/plain": [
       "'0b10001'"
      ]
     },
     "execution_count": 38,
     "metadata": {},
     "output_type": "execute_result"
    }
   ],
   "source": [
    "bin(17)"
   ]
  },
  {
   "cell_type": "code",
   "execution_count": 39,
   "id": "91dd95b2-a8c6-48e2-a3d7-ebd2a0506a6a",
   "metadata": {},
   "outputs": [
    {
     "data": {
      "text/plain": [
       "8"
      ]
     },
     "execution_count": 39,
     "metadata": {},
     "output_type": "execute_result"
    }
   ],
   "source": [
    "17>>1"
   ]
  },
  {
   "cell_type": "code",
   "execution_count": 40,
   "id": "27dd9c3f-da9b-4c35-bd76-0afd15a0d3f0",
   "metadata": {},
   "outputs": [
    {
     "data": {
      "text/plain": [
       "'0b1000'"
      ]
     },
     "execution_count": 40,
     "metadata": {},
     "output_type": "execute_result"
    }
   ],
   "source": [
    "bin(8)"
   ]
  },
  {
   "cell_type": "code",
   "execution_count": 41,
   "id": "e554abb3-f238-4864-9aff-61281d1a257c",
   "metadata": {},
   "outputs": [
    {
     "data": {
      "text/plain": [
       "0"
      ]
     },
     "execution_count": 41,
     "metadata": {},
     "output_type": "execute_result"
    }
   ],
   "source": [
    "12 >> 11"
   ]
  },
  {
   "cell_type": "code",
   "execution_count": 42,
   "id": "bf8cde8f-68ca-41cf-9260-01b683091152",
   "metadata": {},
   "outputs": [
    {
     "data": {
      "text/plain": [
       "2"
      ]
     },
     "execution_count": 42,
     "metadata": {},
     "output_type": "execute_result"
    }
   ],
   "source": [
    "4 >> 1"
   ]
  },
  {
   "cell_type": "code",
   "execution_count": 43,
   "id": "dd710c10-ac2f-4124-a654-fefbae3674a1",
   "metadata": {},
   "outputs": [
    {
     "data": {
      "text/plain": [
       "'0b101'"
      ]
     },
     "execution_count": 43,
     "metadata": {},
     "output_type": "execute_result"
    }
   ],
   "source": [
    "bin(5)"
   ]
  },
  {
   "cell_type": "code",
   "execution_count": 44,
   "id": "e61d060f-dff5-4255-80c2-15ee9ba4ac47",
   "metadata": {},
   "outputs": [
    {
     "data": {
      "text/plain": [
       "1"
      ]
     },
     "execution_count": 44,
     "metadata": {},
     "output_type": "execute_result"
    }
   ],
   "source": [
    "5>>2"
   ]
  },
  {
   "cell_type": "code",
   "execution_count": 45,
   "id": "86e95d46-890d-4557-b43d-4a674ce56c55",
   "metadata": {},
   "outputs": [],
   "source": [
    "#Order of parenthisis\n",
    "# excecution will start from Left\n",
    "# always parenthesis (bracket first)"
   ]
  },
  {
   "cell_type": "code",
   "execution_count": 46,
   "id": "1245125e-53cd-4402-924e-d2dddd117d10",
   "metadata": {},
   "outputs": [
    {
     "data": {
      "text/plain": [
       "10"
      ]
     },
     "execution_count": 46,
     "metadata": {},
     "output_type": "execute_result"
    }
   ],
   "source": [
    "2*3+4"
   ]
  },
  {
   "cell_type": "code",
   "execution_count": 50,
   "id": "3d2f77ca-6b8b-41dc-9918-99a054c9713a",
   "metadata": {},
   "outputs": [
    {
     "data": {
      "text/plain": [
       "-1"
      ]
     },
     "execution_count": 50,
     "metadata": {},
     "output_type": "execute_result"
    }
   ],
   "source": [
    "(2+9)-12"
   ]
  },
  {
   "cell_type": "code",
   "execution_count": 51,
   "id": "1136921e-115d-4cbe-af52-82cd10e53c3f",
   "metadata": {},
   "outputs": [
    {
     "data": {
      "text/plain": [
       "5"
      ]
     },
     "execution_count": 51,
     "metadata": {},
     "output_type": "execute_result"
    }
   ],
   "source": [
    "12+9-(22-6)"
   ]
  },
  {
   "cell_type": "code",
   "execution_count": null,
   "id": "f9845274-43e7-4518-9ba0-e6e775fa2126",
   "metadata": {},
   "outputs": [],
   "source": []
  }
 ],
 "metadata": {
  "kernelspec": {
   "display_name": "Python 3 (ipykernel)",
   "language": "python",
   "name": "python3"
  },
  "language_info": {
   "codemirror_mode": {
    "name": "ipython",
    "version": 3
   },
   "file_extension": ".py",
   "mimetype": "text/x-python",
   "name": "python",
   "nbconvert_exporter": "python",
   "pygments_lexer": "ipython3",
   "version": "3.10.8"
  }
 },
 "nbformat": 4,
 "nbformat_minor": 5
}
